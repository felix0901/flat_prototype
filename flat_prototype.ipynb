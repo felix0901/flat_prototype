{
  "nbformat": 4,
  "nbformat_minor": 0,
  "metadata": {
    "colab": {
      "name": "flat_prototype.ipynb",
      "provenance": [],
      "collapsed_sections": [],
      "machine_shape": "hm",
      "include_colab_link": true
    },
    "kernelspec": {
      "name": "python3",
      "display_name": "Python 3"
    },
    "language_info": {
      "name": "python"
    },
    "accelerator": "GPU"
  },
  "cells": [
    {
      "cell_type": "markdown",
      "metadata": {
        "id": "view-in-github",
        "colab_type": "text"
      },
      "source": [
        "<a href=\"https://colab.research.google.com/github/felix0901/flat_prototype/blob/master/flat_prototype.ipynb\" target=\"_parent\"><img src=\"https://colab.research.google.com/assets/colab-badge.svg\" alt=\"Open In Colab\"/></a>"
      ]
    },
    {
      "cell_type": "markdown",
      "source": [
        "#### Pip Install"
      ],
      "metadata": {
        "id": "ugHyOsh2WqUv"
      }
    },
    {
      "cell_type": "code",
      "source": [
        "# !pip install --upgrade pip\n",
        "# !pip install --upgrade \"jax[cuda]\" -f https://storage.googleapis.com/jax-releases/jax_releases.html"
      ],
      "metadata": {
        "id": "WtKp15uf1xpA"
      },
      "execution_count": 9,
      "outputs": []
    },
    {
      "cell_type": "markdown",
      "source": [
        "#### Import"
      ],
      "metadata": {
        "id": "J0ADsQIXWu8T"
      }
    },
    {
      "cell_type": "code",
      "source": [
        "from jax import custom_vjp\n",
        "import jax\n",
        "import jax.numpy as jnp\n",
        "import numpy as np\n",
        "import gc\n",
        "import time\n",
        "import pandas as pd"
      ],
      "metadata": {
        "id": "5Z0tB3C0-xx5"
      },
      "execution_count": 10,
      "outputs": []
    },
    {
      "cell_type": "markdown",
      "source": [
        "#### These are the Logit and Attend function\n"
      ],
      "metadata": {
        "id": "Pfd6vpU_Vo9K"
      }
    },
    {
      "cell_type": "code",
      "execution_count": 11,
      "metadata": {
        "id": "5Egj4_ji1C2V"
      },
      "outputs": [],
      "source": [
        "\n",
        "@jax.jit\n",
        "def matmul(A, B):\n",
        "  return jnp.matmul(A, B)\n",
        "\n",
        "\n",
        "@jax.jit\n",
        "def matmul3(A, B, C):\n",
        "  O = jnp.matmul(A, B)\n",
        "  O = jax.nn.softmax(O, axis=-1)\n",
        "  return jnp.matmul(O, C)\n",
        "\n",
        "\n",
        "def einsum_layer(query, key, output, B=1, H=1, R=1):\n",
        "  assert len(key.shape) == len(query.shape) == 4\n",
        "  batch, head, hidden,seq_k  = key.shape\n",
        "  batch, head, seq_q, hidden = query.shape\n",
        "  for bt in range(0, batch, B):\n",
        "    for ht in range(0, head, H):\n",
        "      for mt in range(0, seq_q, R):\n",
        "        out = matmul(jnp.array(query[bt:bt+B, ht:ht+H, mt:mt+R, :]), jnp.array(key[bt:bt+B, ht:ht+H, :, :]))\n",
        "        output[bt:bt+B, ht:ht+H, mt:mt+R, :] = out\n",
        "  return output\n",
        "\n",
        "\n",
        "def L_softmax_A(query, key, value, output, B=1, H=1, R=1):\n",
        "  '''\n",
        "  Baseline: Un-fused Logit-Softmax-Attend\n",
        "  \n",
        "  B: Batch graularity\n",
        "  H: Head granularity\n",
        "  R: Row granularity\n",
        "  '''\n",
        "  assert len(key.shape) == len(query.shape) == len(query.shape) == 4\n",
        "  batch, head, hidden, seq_k  = key.shape\n",
        "  batch, head, seq_q, hidden = query.shape\n",
        "  batch, head, seq_v, hidden = value.shape\n",
        "  intermediate = np.zeros((batch, head, seq_q, seq_k))\n",
        "  assert seq_k == seq_v\n",
        "  intermediate = einsum_layer(query, key, intermediate, B=B, H=H, R=R)\n",
        "  intermediate = jax.nn.softmax(jnp.array(intermediate), axis=-1)\n",
        "  output = einsum_layer(np.array(intermediate), value, output, B=B, H=H, R=R)\n",
        "  return output\n",
        "\n",
        "\n",
        "def fused_L_softmax_A(query, key, value, output, B=1, H=1, R=1):\n",
        "  '''\n",
        "  FLAT: fused Logit-Softmax-Attend\n",
        "\n",
        "  B: Batch graularity\n",
        "  H: Head granularity\n",
        "  R: Row granularity\n",
        "  '''\n",
        "  assert len(key.shape) == len(query.shape) == len(query.shape) == 4\n",
        "  batch, head, hidden,seq_k  = key.shape\n",
        "  batch, head, seq_q, hidden = query.shape\n",
        "  batch, head, seq_v, hidden = value.shape\n",
        "  assert seq_k == seq_v\n",
        "  for bt in range(0, batch, B):\n",
        "    for ht in range(0, head, H):\n",
        "      for mt in range(0, seq_q, R):\n",
        "        out = matmul3(jnp.array(query[bt:bt+B, ht:ht+H, mt:mt+R, :]), jnp.array(key[bt:bt+B, ht:ht+H, :, :]), jnp.array(value[bt:bt+B, ht:ht+H, :, :]))\n",
        "        output[bt:bt+B, ht:ht+H, mt:mt+R, :] = out\n",
        "  return output\n",
        "\n",
        "\n",
        "\n",
        " "
      ]
    },
    {
      "cell_type": "markdown",
      "source": [
        "#### Sweep Batch size"
      ],
      "metadata": {
        "id": "ykAHAFUNWdvl"
      }
    },
    {
      "cell_type": "code",
      "source": [
        "#Baseline\n",
        "head = 12\n",
        "seq_k = seq_v = seq_q = seq =256\n",
        "hidden = 768\n",
        "print('=========Baseline============')\n",
        "for batcht in range(8):\n",
        "    batch = 2** batcht\n",
        "    key = np.ones((batch, head, hidden, seq_k))\n",
        "    query = np.ones((batch, head, seq_q, hidden))\n",
        "    value = np.ones((batch, head, seq_v, hidden))\n",
        "    output = np.zeros((batch, head, seq_q, hidden))\n",
        "    B = batch\n",
        "    H = head\n",
        "    R = seq_q\n",
        "    print(f'Running Model Batch-{batch}, Head-{head}, Seq-{seq_q}, Hidden-{hidden}, with granularity B-{B}, H-{H}, R-{R}')\n",
        "    L_softmax_A(query, key, value, output, B, H, R)\n",
        "    timing = %timeit -o L_softmax_A(query, key, value, output, B, H, R)\n",
        "    del key, query, value, output\n",
        "    gc.collect()\n"
      ],
      "metadata": {
        "colab": {
          "base_uri": "https://localhost:8080/"
        },
        "id": "y5CghpGo_Pq2",
        "outputId": "02871371-aafe-47fb-b084-4056a8a4e628"
      },
      "execution_count": 12,
      "outputs": [
        {
          "output_type": "stream",
          "name": "stdout",
          "text": [
            "=========Baseline============\n",
            "Running Model Batch-1, Head-12, Seq-256, Hidden-768, with granularity B-1, H-12, R-256\n",
            "10 loops, best of 5: 30.9 ms per loop\n",
            "Running Model Batch-2, Head-12, Seq-256, Hidden-768, with granularity B-2, H-12, R-256\n",
            "10 loops, best of 5: 61.1 ms per loop\n",
            "Running Model Batch-4, Head-12, Seq-256, Hidden-768, with granularity B-4, H-12, R-256\n",
            "10 loops, best of 5: 119 ms per loop\n",
            "Running Model Batch-8, Head-12, Seq-256, Hidden-768, with granularity B-8, H-12, R-256\n",
            "1 loop, best of 5: 230 ms per loop\n",
            "Running Model Batch-16, Head-12, Seq-256, Hidden-768, with granularity B-16, H-12, R-256\n",
            "1 loop, best of 5: 458 ms per loop\n",
            "Running Model Batch-32, Head-12, Seq-256, Hidden-768, with granularity B-32, H-12, R-256\n",
            "1 loop, best of 5: 918 ms per loop\n",
            "Running Model Batch-64, Head-12, Seq-256, Hidden-768, with granularity B-64, H-12, R-256\n",
            "1 loop, best of 5: 1.8 s per loop\n",
            "Running Model Batch-128, Head-12, Seq-256, Hidden-768, with granularity B-128, H-12, R-256\n",
            "1 loop, best of 5: 4.38 s per loop\n"
          ]
        }
      ]
    },
    {
      "cell_type": "code",
      "source": [
        "head = 12\n",
        "seq_k = seq_v = seq_q = seq =256\n",
        "hidden = 768\n",
        "\n",
        "# ===hyperparameter of FLAT===\n",
        "batch_tile = 64   # 1<=batch_tile<=batch\n",
        "head_tile = head  # 1<=head_tile<=head\n",
        "seq_tile = seq  # 1<=seq_tile<=seq\n",
        "#=============================\n",
        "\n",
        "print('=========FLAT============')\n",
        "\n",
        "for batcht in range(8):\n",
        "    batch = 2** batcht\n",
        "    key = np.ones((batch, head, hidden, seq_k))\n",
        "    query = np.ones((batch, head, seq_q, hidden))\n",
        "    value = np.ones((batch, head, seq_v, hidden))\n",
        "    output = np.zeros((batch, head, seq_q, hidden))\n",
        "    B = min(batch_tile, batch)\n",
        "    H = min(head_tile, head)\n",
        "    R = min(seq_tile, seq_q)\n",
        "    print(f'Running Model Batch-{batch}, Head-{head}, Seq-{seq_q}, Hidden-{hidden}, with granularity B-{B}, H-{H}, R-{R}')\n",
        "    fused_L_softmax_A(query, key, value, output, B, H, R)\n",
        "    timing = %timeit -o fused_L_softmax_A(query, key, value, output, B, H, R)\n",
        "    gc.collect()"
      ],
      "metadata": {
        "colab": {
          "base_uri": "https://localhost:8080/"
        },
        "id": "tmSOp7T4XTEp",
        "outputId": "33b413e0-5520-42fb-a669-b8e7fde1059b"
      },
      "execution_count": 13,
      "outputs": [
        {
          "output_type": "stream",
          "name": "stdout",
          "text": [
            "=========FLAT============\n",
            "Running Model Batch-1, Head-12, Seq-256, Hidden-768, with granularity B-1, H-12, R-256\n",
            "10 loops, best of 5: 22.4 ms per loop\n",
            "Running Model Batch-2, Head-12, Seq-256, Hidden-768, with granularity B-2, H-12, R-256\n",
            "10 loops, best of 5: 46.1 ms per loop\n",
            "Running Model Batch-4, Head-12, Seq-256, Hidden-768, with granularity B-4, H-12, R-256\n",
            "10 loops, best of 5: 94.3 ms per loop\n",
            "Running Model Batch-8, Head-12, Seq-256, Hidden-768, with granularity B-8, H-12, R-256\n",
            "1 loop, best of 5: 188 ms per loop\n",
            "Running Model Batch-16, Head-12, Seq-256, Hidden-768, with granularity B-16, H-12, R-256\n",
            "1 loop, best of 5: 373 ms per loop\n",
            "Running Model Batch-32, Head-12, Seq-256, Hidden-768, with granularity B-32, H-12, R-256\n",
            "1 loop, best of 5: 742 ms per loop\n",
            "Running Model Batch-64, Head-12, Seq-256, Hidden-768, with granularity B-64, H-12, R-256\n",
            "1 loop, best of 5: 1.44 s per loop\n",
            "Running Model Batch-128, Head-12, Seq-256, Hidden-768, with granularity B-64, H-12, R-256\n",
            "1 loop, best of 5: 2.71 s per loop\n"
          ]
        }
      ]
    },
    {
      "cell_type": "markdown",
      "source": [
        "#### Sweep Sequence Length"
      ],
      "metadata": {
        "id": "5tpzRwO5WYs0"
      }
    },
    {
      "cell_type": "code",
      "source": [
        "batch = 1\n",
        "head = 12\n",
        "hidden = 768\n",
        "\n",
        "print('=========Baseline============')\n",
        "\n",
        "for seqt in range(8):\n",
        "    seq = 2** seqt\n",
        "    seq_k = seq_v = seq_q =seq\n",
        "    key = np.ones((batch, head, hidden, seq_k))\n",
        "    query = np.ones((batch, head, seq_q, hidden))\n",
        "    value = np.ones((batch, head, seq_v, hidden))\n",
        "    output = np.zeros((batch, head, seq_q, hidden))\n",
        "    B = min(batch_tile, batch)\n",
        "    H = min(head_tile, head)\n",
        "    R = min(seq_tile, seq_q)\n",
        "    print(f'Running Model Batch-{batch}, Head-{head}, Seq-{seq_q}, Hidden-{hidden}, with granularity B-{B}, H-{H}, R-{R}')\n",
        "    L_softmax_A(query, key, value, output, B, H, R)\n",
        "    timing = %timeit -o L_softmax_A(query, key, value, output, B, H, R)\n",
        "    del key, query, value, output\n",
        "    gc.collect()"
      ],
      "metadata": {
        "colab": {
          "base_uri": "https://localhost:8080/"
        },
        "id": "nVDY29TKYf9l",
        "outputId": "283be643-ff12-4044-f66a-69926162ff41"
      },
      "execution_count": 14,
      "outputs": [
        {
          "output_type": "stream",
          "name": "stdout",
          "text": [
            "=========Baseline============\n",
            "Running Model Batch-1, Head-12, Seq-1, Hidden-768, with granularity B-1, H-12, R-1\n",
            "1000 loops, best of 5: 1.79 ms per loop\n",
            "Running Model Batch-1, Head-12, Seq-2, Hidden-768, with granularity B-1, H-12, R-2\n",
            "100 loops, best of 5: 1.86 ms per loop\n",
            "Running Model Batch-1, Head-12, Seq-4, Hidden-768, with granularity B-1, H-12, R-4\n",
            "1000 loops, best of 5: 1.99 ms per loop\n",
            "Running Model Batch-1, Head-12, Seq-8, Hidden-768, with granularity B-1, H-12, R-8\n",
            "100 loops, best of 5: 2.24 ms per loop\n",
            "Running Model Batch-1, Head-12, Seq-16, Hidden-768, with granularity B-1, H-12, R-16\n",
            "100 loops, best of 5: 2.84 ms per loop\n",
            "Running Model Batch-1, Head-12, Seq-32, Hidden-768, with granularity B-1, H-12, R-32\n",
            "100 loops, best of 5: 3.87 ms per loop\n",
            "Running Model Batch-1, Head-12, Seq-64, Hidden-768, with granularity B-1, H-12, R-64\n",
            "100 loops, best of 5: 6.62 ms per loop\n",
            "Running Model Batch-1, Head-12, Seq-128, Hidden-768, with granularity B-1, H-12, R-128\n",
            "100 loops, best of 5: 14.2 ms per loop\n"
          ]
        }
      ]
    },
    {
      "cell_type": "code",
      "source": [
        "batch = 1\n",
        "head = 12\n",
        "hidden = 768\n",
        "\n",
        "# ===hyperparameter of FLAT===\n",
        "batch_tile = 64   # 1<=batch_tile<=batch\n",
        "head_tile = head  # 1<=head_tile<=head\n",
        "seq_tile = float('Inf')  # 1<=seq_tile<=seq\n",
        "#=============================\n",
        "\n",
        "print('=========FLAT============')\n",
        "\n",
        "for seqt in range(8):\n",
        "    seq = 2** seqt\n",
        "    seq_k = seq_v = seq_q =seq\n",
        "    key = np.ones((batch, head, hidden, seq_k))\n",
        "    query = np.ones((batch, head, seq_q, hidden))\n",
        "    value = np.ones((batch, head, seq_v, hidden))\n",
        "    output = np.zeros((batch, head, seq_q, hidden))\n",
        "    B = min(batch_tile, batch)\n",
        "    H = min(head_tile, head)\n",
        "    R = min(seq_tile, seq_q)\n",
        "    print(f'Running Model Batch-{batch}, Head-{head}, Seq-{seq_q}, Hidden-{hidden}, with granularity B-{B}, H-{H}, R-{R}')\n",
        "    fused_L_softmax_A(query, key, value, output, B, H, R)\n",
        "    timing = %timeit -o fused_L_softmax_A(query, key, value, output, B, H, R)\n",
        "    del key, query, value, output\n",
        "    gc.collect()"
      ],
      "metadata": {
        "id": "Ray2tnRxK_xi",
        "colab": {
          "base_uri": "https://localhost:8080/"
        },
        "outputId": "fc46dcdb-0b09-400c-c2fa-5b8509be5f4f"
      },
      "execution_count": 15,
      "outputs": [
        {
          "output_type": "stream",
          "name": "stdout",
          "text": [
            "=========FLAT============\n",
            "Running Model Batch-1, Head-12, Seq-1, Hidden-768, with granularity B-1, H-12, R-1\n",
            "1000 loops, best of 5: 779 µs per loop\n",
            "Running Model Batch-1, Head-12, Seq-2, Hidden-768, with granularity B-1, H-12, R-2\n",
            "1000 loops, best of 5: 873 µs per loop\n",
            "Running Model Batch-1, Head-12, Seq-4, Hidden-768, with granularity B-1, H-12, R-4\n",
            "1000 loops, best of 5: 976 µs per loop\n",
            "Running Model Batch-1, Head-12, Seq-8, Hidden-768, with granularity B-1, H-12, R-8\n",
            "1000 loops, best of 5: 1.35 ms per loop\n",
            "Running Model Batch-1, Head-12, Seq-16, Hidden-768, with granularity B-1, H-12, R-16\n",
            "1000 loops, best of 5: 1.86 ms per loop\n",
            "Running Model Batch-1, Head-12, Seq-32, Hidden-768, with granularity B-1, H-12, R-32\n",
            "100 loops, best of 5: 2.76 ms per loop\n",
            "Running Model Batch-1, Head-12, Seq-64, Hidden-768, with granularity B-1, H-12, R-64\n",
            "100 loops, best of 5: 5.01 ms per loop\n",
            "Running Model Batch-1, Head-12, Seq-128, Hidden-768, with granularity B-1, H-12, R-128\n",
            "100 loops, best of 5: 10.7 ms per loop\n"
          ]
        }
      ]
    }
  ]
}